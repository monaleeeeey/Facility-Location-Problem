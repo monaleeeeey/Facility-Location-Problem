{
 "cells": [
  {
   "cell_type": "markdown",
   "id": "a479e118",
   "metadata": {},
   "source": [
    "**Step 4:** Solve the model\n",
    "\n",
    "The problem is solved using python for over 1000 iterations.\n"
   ]
  },
  {
   "cell_type": "code",
   "execution_count": 1,
   "id": "0fdeafea",
   "metadata": {},
   "outputs": [],
   "source": [
    "import pandas as pd\n",
    "import random\n",
    "import math"
   ]
  },
  {
   "cell_type": "code",
   "execution_count": 2,
   "id": "d3a72b94",
   "metadata": {},
   "outputs": [],
   "source": [
    "# Defining function for z = p(r)\n",
    "def prob(x, y, a, b):\n",
    "    if math.sqrt((x-a)**2 + (y-b)**2) <= 60:\n",
    "        return 1 - (math.sqrt((x-a)**2 + (y-b)**2))/60\n",
    "    else:\n",
    "        return 0"
   ]
  },
  {
   "cell_type": "code",
   "execution_count": 3,
   "id": "66986bd3",
   "metadata": {},
   "outputs": [],
   "source": [
    "# Defining function for Probability average:\n",
    "def ave(x,y):\n",
    "    return (prob(x, y, 10, 18) + prob(x, y, 10, 26) + prob(x, y, 10, 36) + prob(x, y, 10, 46) + prob(x, y, 10, 56) \n",
    "            + prob(x, y, 10, 68) + prob(x, y, 10, 76) + prob(x, y, 12, 18) + prob(x, y, 12, 22) + prob(x, y, 12, 26) \n",
    "            + prob(x, y, 12, 32) + prob(x, y, 26, 18) + prob(x, y, 26, 22) + prob(x, y, 26, 26) + prob(x, y, 26, 32)\n",
    "            + prob(x, y, 26, 72) + prob(x, y, 34, 20) + prob(x, y, 36, 62) + prob(x, y, 40, 20) + prob(x, y, 48, 24)\n",
    "            + prob(x, y, 48, 30) + prob(x, y, 48, 36) + prob(x, y, 48, 46) + prob(x, y, 48, 52) + prob(x, y, 48, 58)\n",
    "            + prob(x, y, 48, 72) + prob(x, y, 52, 12) + prob(x, y, 52, 20) + prob(x, y, 52, 26) + prob(x, y, 52, 34)\n",
    "            + prob(x, y, 52, 42) + prob(x, y, 52, 50) + prob(x, y, 52, 56)) / 33"
   ]
  },
  {
   "cell_type": "code",
   "execution_count": 4,
   "id": "53813fa0",
   "metadata": {},
   "outputs": [],
   "source": [
    "# Defining function for Random Search Algorithm\n",
    "def sim(n):\n",
    "    # Data frame for results\n",
    "    z = pd.DataFrame(columns=[\"x\", \"y\", \"probability\"])\n",
    "    \n",
    "    # Loop for 1st shape\n",
    "    for i in range(1, n//6 + 1):\n",
    "        x = random.uniform(10, 12)\n",
    "        y = random.uniform(10, 72)\n",
    "        z.loc[i-1, \"x\"] = x\n",
    "        z.loc[i-1, \"y\"] = y\n",
    "        z.loc[i-1, \"probability\"] = ave(x,y)\n",
    "\n",
    "    # Loop for 2nd shape\n",
    "    for i in range(n//6 +1, 2*n//6 + 1):\n",
    "        x = random.uniform(12, 26)\n",
    "        y = random.uniform(10, 16)\n",
    "        z.loc[i-1, \"x\"] = x\n",
    "        z.loc[i-1, \"y\"] = y\n",
    "        z.loc[i-1, \"probability\"] = ave(x,y)\n",
    "\n",
    "    # Loop for 3rd shape\n",
    "    for i in range(2*n//6 + 1, 3*n//6 + 1):\n",
    "        x = random.uniform(26, 52)\n",
    "        y = random.uniform(10, 20)\n",
    "        z.loc[i-1, \"x\"] = x\n",
    "        z.loc[i-1, \"y\"] = y\n",
    "        z.loc[i-1, \"probability\"] = ave(x,y)\n",
    "\n",
    "    # Loop for 4th shape\n",
    "    for i in range(3*n//6 + 1, 4*n//6 + 1):\n",
    "        x = random.uniform(26, 30)\n",
    "        y = random.uniform(20, 62)\n",
    "        z.loc[i-1, \"x\"] = x\n",
    "        z.loc[i-1, \"y\"] = y\n",
    "        z.loc[i-1, \"probability\"] = ave(x,y)\n",
    "\n",
    "    # Loop for 5th shape\n",
    "    for i in range(4*n//6 + 1, 5*n//6 + 1):\n",
    "        x = random.uniform(48, 52)\n",
    "        y = random.uniform(20, 62)\n",
    "        z.loc[i-1, \"x\"] = x\n",
    "        z.loc[i-1, \"y\"] = y\n",
    "        z.loc[i-1, \"probability\"] = ave(x,y)\n",
    "\n",
    "    # Loop for 6th shape\n",
    "    for i in range(5*n//6 + 1, n + 1):\n",
    "        x = random.uniform(26, 52)\n",
    "        y = random.uniform(62, 72)\n",
    "        z.loc[i-1, \"x\"] = x\n",
    "        z.loc[i-1, \"y\"] = y\n",
    "        z.loc[i-1, \"probability\"] = ave(x,y)\n",
    "\n",
    "    result = z[z[\"probability\"] == max(z[\"probability\"])]\n",
    "    result.columns\n",
    "    return result"
   ]
  },
  {
   "cell_type": "markdown",
   "id": "d2d3a554",
   "metadata": {},
   "source": [
    "**Step 5:** Answer the Question"
   ]
  },
  {
   "cell_type": "code",
   "execution_count": 6,
   "id": "9f27b307",
   "metadata": {},
   "outputs": [
    {
     "data": {
      "text/html": [
       "<div>\n",
       "<style scoped>\n",
       "    .dataframe tbody tr th:only-of-type {\n",
       "        vertical-align: middle;\n",
       "    }\n",
       "\n",
       "    .dataframe tbody tr th {\n",
       "        vertical-align: top;\n",
       "    }\n",
       "\n",
       "    .dataframe thead th {\n",
       "        text-align: right;\n",
       "    }\n",
       "</style>\n",
       "<table border=\"1\" class=\"dataframe\">\n",
       "  <thead>\n",
       "    <tr style=\"text-align: right;\">\n",
       "      <th></th>\n",
       "      <th>x</th>\n",
       "      <th>y</th>\n",
       "      <th>probability</th>\n",
       "    </tr>\n",
       "  </thead>\n",
       "  <tbody>\n",
       "    <tr>\n",
       "      <th>612</th>\n",
       "      <td>29.745105</td>\n",
       "      <td>32.857931</td>\n",
       "      <td>0.599824</td>\n",
       "    </tr>\n",
       "  </tbody>\n",
       "</table>\n",
       "</div>"
      ],
      "text/plain": [
       "             x          y probability\n",
       "612  29.745105  32.857931    0.599824"
      ]
     },
     "execution_count": 6,
     "metadata": {},
     "output_type": "execute_result"
    }
   ],
   "source": [
    "sim(1000)"
   ]
  },
  {
   "cell_type": "markdown",
   "id": "2f099ea6",
   "metadata": {},
   "source": [
    "Therefore, at **(29.75, 32.86)**, the probability of customers visiting the kiosk is maximized to **0.6**."
   ]
  },
  {
   "cell_type": "code",
   "execution_count": null,
   "id": "a463130c",
   "metadata": {},
   "outputs": [],
   "source": []
  }
 ],
 "metadata": {
  "kernelspec": {
   "display_name": "Python 3 (ipykernel)",
   "language": "python",
   "name": "python3"
  },
  "language_info": {
   "codemirror_mode": {
    "name": "ipython",
    "version": 3
   },
   "file_extension": ".py",
   "mimetype": "text/x-python",
   "name": "python",
   "nbconvert_exporter": "python",
   "pygments_lexer": "ipython3",
   "version": "3.9.12"
  }
 },
 "nbformat": 4,
 "nbformat_minor": 5
}
